{
 "cells": [
  {
   "cell_type": "markdown",
   "id": "eb88049c-cd0b-4731-81f1-3c13fd66fef1",
   "metadata": {},
   "source": [
    "#  Homework 2 Analysis"
   ]
  },
  {
   "cell_type": "markdown",
   "id": "8d85a0e3-ad73-47ca-bf77-664fdc4f33e6",
   "metadata": {},
   "source": [
    "## Summary \n",
    "Forecast Colorado state marijuana tax revenue for calendar years 2024 and 2025. \n",
    "While background information is provided here, please also rely on news articles and other sources of information when preparing your forecast. \n",
    "\n",
    "Tax revenue data are provided along with this assignment and are summarized on a monthly and annual basis. In three pages or less, provide your forecast estimates (e.g., $\\$XXX.X$ million and $\\$XXX.X$ million) for calendar years 2024 and 2025 and summarize your forecast by providing an economic narrative substantiating these expectations. \n",
    "\n",
    "This narrative should identify key drivers of tax revenue (e.g., determinants of demand, supply, prices, and/or other factors) and your expectations for changes in these drivers."
   ]
  },
  {
   "cell_type": "markdown",
   "id": "c1ec9251-98c2-4906-bce6-ff1100b3ff33",
   "metadata": {},
   "source": [
    "## Background and other considerations\n",
    "\n",
    "### 1. Marijuana taxes and tax rates. \n",
    "Three unique taxes apply differently to medical and retail marijuana. \n",
    "\n",
    "|              | Regular State Sales Tax |  Marijuana Retail Excise Tax | Marijuana Retail Sales Tax | \n",
    "|--------------|-------------------------|------|--------|\n",
    "| Description  | Tax on most goods sold in Colorado. While medical marijuana sales are subject to the tax, retail marijuana is exempt. | Tax on the first sale or transfer of unprocessed marijuana by a retail cultivation facility. | Tax on the sale of retail marijuana or retail marijuana products to a consumer by a retail marijuana store. |\n",
    "| Tax Rate | 2.9% Beginning July 1, 2017, only marijuana accessories subject to the tax, while marijuana and marijuana products are exempt. | 15% | Increased from 10% to 15% beginning July 1, 2017. |\n",
    "\n",
    "2. Median market price data are provided with tax revenue data.\n",
    "\n",
    "4. Legalization and taxation of marijuana in other states.\n",
    "    - For a summary of states that have legalized marijuana, see: [NCSL Org](https://www.ncsl.org/research/health/state-medical-marijuana-laws.aspx).\n",
    "    - For a summary of marijuana taxation across states, see: [Tax Foundation](https://taxfoundation.org/research/all/state/cannabis-tax-revenue-reform/).\n"
   ]
  },
  {
   "cell_type": "markdown",
   "id": "ba0933bf-0303-4ed1-a43f-155fc78e9af6",
   "metadata": {},
   "source": [
    "## Literature\n",
    "\n",
    "* \"Marijuana Policy Overview, FY 2024-2025\", Joint Budget Committee, Colorado LegislatureE  * [Link](W\n",
    "https://leg.colorado.gov/sites/default/files/fy2024_-25marbrf.p)df"
   ]
  },
  {
   "cell_type": "markdown",
   "id": "83bb0977-1ea9-4a46-b563-19823afb292c",
   "metadata": {},
   "source": [
    "## Approach and Methodology\n",
    "\n",
    "Marijuana is an interesting product which I am note sure how to categorize.  To start with, I will make the assumption that Marijuana products will likely follow the market as a whole.  "
   ]
  },
  {
   "cell_type": "markdown",
   "id": "53a33ca1-512d-4a3b-87b8-e26b57f78139",
   "metadata": {},
   "source": [
    "# Preparation Work\n",
    "\n",
    "First, we load the require Python libraries and setup our logger."
   ]
  },
  {
   "cell_type": "code",
   "execution_count": 1,
   "id": "6b2dd778-af45-40aa-9c33-197585ee1d08",
   "metadata": {},
   "outputs": [
    {
     "ename": "ModuleNotFoundError",
     "evalue": "No module named 'ipywidgets'",
     "output_type": "error",
     "traceback": [
      "\u001b[0;31m---------------------------------------------------------------------------\u001b[0m",
      "\u001b[0;31mModuleNotFoundError\u001b[0m                       Traceback (most recent call last)",
      "Cell \u001b[0;32mIn[1], line 10\u001b[0m\n\u001b[1;32m      6\u001b[0m \u001b[38;5;28;01mimport\u001b[39;00m \u001b[38;5;21;01mmatplotlib\u001b[39;00m\u001b[38;5;21;01m.\u001b[39;00m\u001b[38;5;21;01mpyplot\u001b[39;00m \u001b[38;5;28;01mas\u001b[39;00m \u001b[38;5;21;01mplt\u001b[39;00m\n\u001b[1;32m      8\u001b[0m \u001b[38;5;28;01mimport\u001b[39;00m \u001b[38;5;21;01mnumpy\u001b[39;00m \u001b[38;5;28;01mas\u001b[39;00m \u001b[38;5;21;01mnp\u001b[39;00m\n\u001b[0;32m---> 10\u001b[0m \u001b[38;5;28;01mfrom\u001b[39;00m \u001b[38;5;21;01mipywidgets\u001b[39;00m \u001b[38;5;28;01mimport\u001b[39;00m interact\n\u001b[1;32m     12\u001b[0m \u001b[38;5;28;01mfrom\u001b[39;00m \u001b[38;5;21;01msklearn\u001b[39;00m\u001b[38;5;21;01m.\u001b[39;00m\u001b[38;5;21;01mlinear_model\u001b[39;00m \u001b[38;5;28;01mimport\u001b[39;00m LinearRegression\n\u001b[1;32m     14\u001b[0m \u001b[38;5;28;01mimport\u001b[39;00m \u001b[38;5;21;01mdatetime\u001b[39;00m\u001b[38;5;241m,\u001b[39m \u001b[38;5;21;01mdateutil\u001b[39;00m\u001b[38;5;241m,\u001b[39m \u001b[38;5;21;01mlogging\u001b[39;00m\u001b[38;5;241m,\u001b[39m \u001b[38;5;21;01mos\u001b[39;00m\u001b[38;5;241m,\u001b[39m \u001b[38;5;21;01msys\u001b[39;00m\n",
      "\u001b[0;31mModuleNotFoundError\u001b[0m: No module named 'ipywidgets'"
     ]
    }
   ],
   "source": [
    "import pandas as pd\n",
    "\n",
    "import plotly.graph_objects as go\n",
    "import plotly.express as px\n",
    "\n",
    "import matplotlib.pyplot as plt\n",
    "\n",
    "import numpy as np\n",
    "\n",
    "from ipywidgets import interact\n",
    "\n",
    "from sklearn.linear_model import LinearRegression\n",
    "\n",
    "import datetime, dateutil, logging, os, sys\n",
    "\n",
    "from sklearn.preprocessing import PolynomialFeatures\n",
    "from sklearn.linear_model import LinearRegression"
   ]
  },
  {
   "cell_type": "markdown",
   "id": "80b646f9-8fa3-4f26-827b-b52153cc5371",
   "metadata": {},
   "source": [
    "Logger setup"
   ]
  },
  {
   "cell_type": "code",
   "execution_count": null,
   "id": "b7e7bda1-abf5-4c31-9039-3720b594098e",
   "metadata": {},
   "outputs": [],
   "source": [
    "logging.basicConfig( level = logging.INFO )"
   ]
  },
  {
   "cell_type": "code",
   "execution_count": null,
   "id": "33f7cb8a-9536-41e7-a8c3-1c6db9fa6ffb",
   "metadata": {},
   "outputs": [],
   "source": [
    "num_dims = 2"
   ]
  },
  {
   "cell_type": "code",
   "execution_count": null,
   "id": "cf1d978f-2158-4fcb-98a6-5b77fa5b7269",
   "metadata": {},
   "outputs": [],
   "source": [
    "tax_rev_monthly_df = pd.read_excel( 'Assignment 2 - Data.xlsx',\n",
    "                                    sheet_name = 'tax_revenue_monthly' )\n",
    "\n",
    "tax_rev_monthly_df.head(3)"
   ]
  },
  {
   "cell_type": "code",
   "execution_count": null,
   "id": "d4d4dba1-a2d6-4ad3-a6b4-c3f7fd04378d",
   "metadata": {},
   "outputs": [],
   "source": [
    "#dmonth.dt.components.days.values.shape\n",
    "tax_rev_monthly_df['reg_state_sales_tax'].values.shape"
   ]
  },
  {
   "cell_type": "code",
   "execution_count": null,
   "id": "249a6b4e-7429-4b2a-8cf0-30a672a95479",
   "metadata": {},
   "outputs": [],
   "source": [
    "tax_rev_yearly_df = pd.read_excel( 'Assignment 2 - Data.xlsx',\n",
    "                                   sheet_name = 'tax_revenue_yearly' )\n",
    "\n",
    "tax_rev_yearly_df.head(3)"
   ]
  },
  {
   "cell_type": "code",
   "execution_count": null,
   "id": "dadf5f84-042d-4593-baa1-21318fca06f2",
   "metadata": {},
   "outputs": [],
   "source": [
    "median_price = pd.read_excel( 'Assignment 2 - Data.xlsx',\n",
    "                              sheet_name = 'median_market_price' )\n",
    "median_price.head(3)"
   ]
  },
  {
   "cell_type": "code",
   "execution_count": null,
   "id": "ec88259e-e7d7-4ba9-9cd9-9a02ec75c363",
   "metadata": {},
   "outputs": [],
   "source": [
    "fig = go.Figure()\n",
    "\n",
    "fig.add_trace( go.Scatter( x = tax_rev_monthly_df['date'],\n",
    "                           y = tax_rev_monthly_df['reg_state_sales_tax'],\n",
    "                           name = 'Regular State Sales Taxes' ) )\n",
    "\n",
    "fig.add_trace( go.Scatter( x = tax_rev_monthly_df['date'],\n",
    "                           y = tax_rev_monthly_df['ret_mar_sales_tax'],\n",
    "                           name = 'Retail Marijuana Sales Taxes' ) )\n",
    "\n",
    "fig.add_trace( go.Scatter( x = tax_rev_monthly_df['date'],\n",
    "                           y = tax_rev_monthly_df['ret_mar_exc_tax'],\n",
    "                           name = 'Retail Marijuana Excise Taxes' ) )\n",
    "fig.update_layout( height = 500 )\n",
    "\n",
    "fig.show()"
   ]
  },
  {
   "cell_type": "code",
   "execution_count": null,
   "id": "8f4b010d-1ab6-4a84-9f22-38bd9894a471",
   "metadata": {},
   "outputs": [],
   "source": [
    "start_date = tax_rev_monthly_df['date'].values[0]"
   ]
  },
  {
   "cell_type": "code",
   "execution_count": null,
   "id": "64208b01-8a40-4029-96e9-7905df95acf6",
   "metadata": {},
   "outputs": [],
   "source": [
    "date_range = []\n",
    "date_range_td = []\n",
    "for year in range(2014,2027):\n",
    "    for month in range( 1,13 ):\n",
    "        date_range.append( np.datetime64( f'{year}-{month:02}-01' ) )\n",
    "        date_range_td.append( np.datetime64( f'{year}-{month:02}-01' ) - tax_rev_monthly_df['date'].values[0])\n",
    "\n",
    "date_range_dt = pd.Series( date_range )\n",
    "date_range_td_dt = pd.Series( date_range_td ).dt.days"
   ]
  },
  {
   "cell_type": "code",
   "execution_count": null,
   "id": "34f46a7f-defe-45f3-8a18-d9461aea6133",
   "metadata": {},
   "outputs": [],
   "source": [
    "dmonth = tax_rev_monthly_df['date'] - tax_rev_monthly_df['date'].values[0]"
   ]
  },
  {
   "cell_type": "code",
   "execution_count": null,
   "id": "b4722e07-75b7-405a-8ed9-17da9b05df7a",
   "metadata": {},
   "outputs": [],
   "source": [
    "res = np.polyfit( dmonth.dt.days,\n",
    "                  tax_rev_monthly_df['reg_state_sales_tax'].values,\n",
    "                  num_dims )\n",
    "print(res)"
   ]
  },
  {
   "cell_type": "code",
   "execution_count": null,
   "id": "be60e183-efbd-476f-a73d-04ae4da79f62",
   "metadata": {},
   "outputs": [],
   "source": [
    "print(dmonth.dtype,date_range_dt.dtype, date_range_td_dt.dtype )"
   ]
  },
  {
   "cell_type": "code",
   "execution_count": null,
   "id": "57f0416e-1da9-4d07-b1f1-5b05f61ee87e",
   "metadata": {},
   "outputs": [],
   "source": [
    "y1 = np.polyval( res, date_range_td_dt) #month.values.astype('float64') )"
   ]
  },
  {
   "cell_type": "code",
   "execution_count": null,
   "id": "92312154-24b8-4677-acdd-9c630ac2dc8b",
   "metadata": {},
   "outputs": [],
   "source": [
    "poly = PolynomialFeatures(degree=num_dims, include_bias=False)\n",
    "poly_features = poly.fit_transform( dmonth.dt.days.values.reshape(-1, 1) )"
   ]
  },
  {
   "cell_type": "code",
   "execution_count": null,
   "id": "c1c7852f-4fc2-4d91-8117-111f652695db",
   "metadata": {},
   "outputs": [],
   "source": [
    "#fit polynomial regression model\n",
    "poly_reg_model = LinearRegression()\n",
    "\n",
    "#print( poly_features.shape, len(date_range_val3 ), len(date_range_dt))\n",
    "poly_reg_model.fit(poly_features, tax_rev_monthly_df['reg_state_sales_tax'] ) #dmonth.dt.days.values.astype('float64').reshape(-1, 1))\n",
    "print(poly_reg_model)\n",
    "\n",
    "#use model to make predictions on response variable\n",
    "y2 = poly_reg_model.predict( poly.fit_transform( date_range_td_dt.values.astype('float64').reshape(-1,1))).reshape(date_range_dt.shape[0])"
   ]
  },
  {
   "cell_type": "code",
   "execution_count": null,
   "id": "fbfa7d4e-90b7-4a96-ab57-7d628e583e01",
   "metadata": {},
   "outputs": [],
   "source": [
    "print(len(y1),len(y2),type(y1),type(y2), y1.dtype, y2.dtype,y1.shape,y2.shape)"
   ]
  },
  {
   "cell_type": "code",
   "execution_count": null,
   "id": "4fe48c25-a49e-46a4-b125-878d324e4311",
   "metadata": {},
   "outputs": [],
   "source": [
    "fig2 = go.Figure()\n",
    "\n",
    "fig2.add_trace( go.Scatter( x = date_range,\n",
    "                            y = tax_rev_monthly_df['reg_state_sales_tax'],\n",
    "                            name = 'State Sales Tax' ) )\n",
    "\n",
    "fig2.add_trace( go.Scatter( x = date_range_dt,\n",
    "                            y = y1,\n",
    "                            name = 'Polyfit Line' ) )\n",
    "\n",
    "\n",
    "fig2.add_trace( go.Scatter( x = date_range_dt,\n",
    "                            y = y2,\n",
    "                            name = 'Regression Line' ) )\n",
    "\n",
    "fig2.update_xaxes( range = [np.datetime64('2014-01-01'),np.datetime64('2026-01-01')] )\n",
    "#fig2.update_yaxes( range = [0,tax_rev_monthly_df['reg_state_sales_tax'].max()] )\n",
    "fig2.update_layout( height = 500 )\n",
    "fig2.show()"
   ]
  },
  {
   "cell_type": "code",
   "execution_count": null,
   "id": "e710f708-3a93-4d80-a531-0bc465977abe",
   "metadata": {},
   "outputs": [],
   "source": []
  }
 ],
 "metadata": {
  "kernelspec": {
   "display_name": "Python 3 (ipykernel)",
   "language": "python",
   "name": "python3"
  },
  "language_info": {
   "codemirror_mode": {
    "name": "ipython",
    "version": 3
   },
   "file_extension": ".py",
   "mimetype": "text/x-python",
   "name": "python",
   "nbconvert_exporter": "python",
   "pygments_lexer": "ipython3",
   "version": "3.11.0rc1"
  },
  "widgets": {
   "application/vnd.jupyter.widget-state+json": {
    "state": {},
    "version_major": 2,
    "version_minor": 0
   }
  }
 },
 "nbformat": 4,
 "nbformat_minor": 5
}
