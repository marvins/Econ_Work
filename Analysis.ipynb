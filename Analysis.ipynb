{
 "cells": [
  {
   "cell_type": "markdown",
   "id": "eb88049c-cd0b-4731-81f1-3c13fd66fef1",
   "metadata": {},
   "source": [
    "#  Homework 2 Analysis\n",
    "\n",
    "Run Yourself!  \n",
    "[![Binder](https://mybinder.org/badge_logo.svg)](https://mybinder.org/v2/gh/marvins/Econ_Work/main?labpath=Analysis.ipynb)\n",
    "\n",
    "**NOTE IF YOU ARE ON BINDER:** PLEASE HIT THE >> icon above to manually re-run.  This will fix the ipywidget table issue below.\n",
    "\n",
    "![](./images/icon.png)"
   ]
  },
  {
   "cell_type": "markdown",
   "id": "8d85a0e3-ad73-47ca-bf77-664fdc4f33e6",
   "metadata": {},
   "source": [
    "## Summary \n",
    "Forecast Colorado state marijuana tax revenue for calendar years 2024 and 2025. \n",
    "While background information is provided here, please also rely on news articles and other sources of information when preparing your forecast. \n",
    "\n",
    "Tax revenue data are provided along with this assignment and are summarized on a monthly and annual basis. In three pages or less, provide your forecast estimates (e.g., $\\$XXX.X$ million and $\\$XXX.X$ million) for calendar years 2024 and 2025 and summarize your forecast by providing an economic narrative substantiating these expectations. \n",
    "\n",
    "This narrative should identify key drivers of tax revenue (e.g., determinants of demand, supply, prices, and/or other factors) and your expectations for changes in these drivers."
   ]
  },
  {
   "cell_type": "markdown",
   "id": "c1ec9251-98c2-4906-bce6-ff1100b3ff33",
   "metadata": {},
   "source": [
    "## Background and other considerations\n",
    "\n",
    "### 1. Marijuana taxes and tax rates. \n",
    "Three unique taxes apply differently to medical and retail marijuana. \n",
    "\n",
    "|              | Regular State Sales Tax |  Marijuana Retail Excise Tax | Marijuana Retail Sales Tax | \n",
    "|--------------|-------------------------|------|--------|\n",
    "| Description  | Tax on most goods sold in Colorado. While medical marijuana sales are subject to the tax, retail marijuana is exempt. | Tax on the first sale or transfer of unprocessed marijuana by a retail cultivation facility. | Tax on the sale of retail marijuana or retail marijuana products to a consumer by a retail marijuana store. |\n",
    "| Tax Rate | 2.9% Beginning July 1, 2017, only marijuana accessories subject to the tax, while marijuana and marijuana products are exempt. | 15% | Increased from 10% to 15% beginning July 1, 2017. |\n",
    "\n",
    "2. Median market price data are provided with tax revenue data.\n",
    "\n",
    "4. Legalization and taxation of marijuana in other states.\n",
    "    - For a summary of states that have legalized marijuana, see: [NCSL Org](https://www.ncsl.org/research/health/state-medical-marijuana-laws.aspx).\n",
    "    - For a summary of marijuana taxation across states, see: [Tax Foundation](https://taxfoundation.org/research/all/state/cannabis-tax-revenue-reform/).\n"
   ]
  },
  {
   "cell_type": "markdown",
   "id": "ba0933bf-0303-4ed1-a43f-155fc78e9af6",
   "metadata": {},
   "source": [
    "## Literature\n",
    "\n",
    "* \"Marijuana Policy Overview, FY 2024-2025\", Joint Budget Committee, Colorado LegislatureE  * [Link](W\n",
    "https://leg.colorado.gov/sites/default/files/fy2024_-25marbrf.p)df"
   ]
  },
  {
   "cell_type": "markdown",
   "id": "83bb0977-1ea9-4a46-b563-19823afb292c",
   "metadata": {},
   "source": [
    "## Approach and Methodology\n",
    "\n",
    "Marijuana is an interesting product which I am note sure how to categorize.  To start with, I will make the assumption that Marijuana products will likely follow the market as a whole.  "
   ]
  },
  {
   "cell_type": "markdown",
   "id": "53a33ca1-512d-4a3b-87b8-e26b57f78139",
   "metadata": {},
   "source": [
    "# Preparation Work\n",
    "\n",
    "First, we load the require Python libraries and setup our logger."
   ]
  },
  {
   "cell_type": "code",
   "execution_count": null,
   "id": "6b2dd778-af45-40aa-9c33-197585ee1d08",
   "metadata": {},
   "outputs": [],
   "source": [
    "import pandas as pd\n",
    "\n",
    "import plotly.graph_objects as go\n",
    "import plotly.express as px\n",
    "\n",
    "import matplotlib.pyplot as plt\n",
    "\n",
    "import numpy as np\n",
    "\n",
    "from ipywidgets import widgets\n",
    "\n",
    "from sklearn.linear_model import LinearRegression\n",
    "\n",
    "import datetime, dateutil, enum, locale, logging, os, sys\n",
    "\n",
    "from sklearn.preprocessing import PolynomialFeatures\n",
    "from sklearn.linear_model import LinearRegression"
   ]
  },
  {
   "cell_type": "markdown",
   "id": "80b646f9-8fa3-4f26-827b-b52153cc5371",
   "metadata": {},
   "source": [
    "Logger setup"
   ]
  },
  {
   "cell_type": "code",
   "execution_count": null,
   "id": "b7e7bda1-abf5-4c31-9039-3720b594098e",
   "metadata": {},
   "outputs": [],
   "source": [
    "logging.basicConfig( level = logging.INFO )"
   ]
  },
  {
   "cell_type": "markdown",
   "id": "2731eccf-f430-40e7-b460-226366e09ace",
   "metadata": {},
   "source": [
    "## Load Pre-Existing Tax Data\n",
    "\n",
    "First, we have the monthly **regular sales tax revenue**."
   ]
  },
  {
   "cell_type": "code",
   "execution_count": null,
   "id": "cf1d978f-2158-4fcb-98a6-5b77fa5b7269",
   "metadata": {},
   "outputs": [],
   "source": [
    "tax_rev_monthly_df = pd.read_excel( 'Assignment 2 - Data.xlsx',\n",
    "                                    sheet_name = 'tax_revenue_monthly' )\n",
    "\n",
    "tax_rev_monthly_df.head(3)"
   ]
  },
  {
   "cell_type": "code",
   "execution_count": null,
   "id": "249a6b4e-7429-4b2a-8cf0-30a672a95479",
   "metadata": {},
   "outputs": [],
   "source": [
    "tax_rev_yearly_df = pd.read_excel( 'Assignment 2 - Data.xlsx',\n",
    "                                   sheet_name = 'tax_revenue_yearly' )\n",
    "\n",
    "tax_rev_yearly_df.head(3)"
   ]
  },
  {
   "cell_type": "code",
   "execution_count": null,
   "id": "dadf5f84-042d-4593-baa1-21318fca06f2",
   "metadata": {},
   "outputs": [],
   "source": [
    "median_price = pd.read_excel( 'Assignment 2 - Data.xlsx',\n",
    "                              sheet_name = 'median_market_price' )\n",
    "median_price.head(3)"
   ]
  },
  {
   "cell_type": "markdown",
   "id": "7311bf7a-86ba-4076-968d-0fb8cec835a8",
   "metadata": {},
   "source": [
    "## Visualizing Tax Information"
   ]
  },
  {
   "cell_type": "code",
   "execution_count": null,
   "id": "ec88259e-e7d7-4ba9-9cd9-9a02ec75c363",
   "metadata": {},
   "outputs": [],
   "source": [
    "fig = go.Figure()\n",
    "\n",
    "fig.add_trace( go.Scatter( x = tax_rev_monthly_df['date'],\n",
    "                           y = tax_rev_monthly_df['reg_state_sales_tax'],\n",
    "                           name = 'Regular State Sales Taxes' ) )\n",
    "\n",
    "fig.add_trace( go.Scatter( x = tax_rev_monthly_df['date'],\n",
    "                           y = tax_rev_monthly_df['ret_mar_sales_tax'],\n",
    "                           name = 'Retail Marijuana Sales Taxes' ) )\n",
    "\n",
    "fig.add_trace( go.Scatter( x = tax_rev_monthly_df['date'],\n",
    "                           y = tax_rev_monthly_df['ret_mar_exc_tax'],\n",
    "                           name = 'Retail Marijuana Excise Taxes' ) )\n",
    "fig.update_layout( height = 500 )\n",
    "\n",
    "fig.show()"
   ]
  },
  {
   "cell_type": "markdown",
   "id": "bdc53baa-8a4d-4db6-bf8c-9da1079b8cc0",
   "metadata": {},
   "source": [
    "## Initial Observations\n",
    "\n",
    "* **Regular State Sales Taxes** have been fairly flat since September 2017.  This matches the legislative changes which took effect in July 2017.\n",
    "\n",
    "* **Retail Marijuana Sales Taxes** grew very quickly until early 2021.  At that point, there starts a gradual decline.  Initial speculating would point to a decrease due to COVID, tied with some larger industry trends.   Most COVID impacts should have mitigated by early 2022, meaning there are likely larger economic forces at play.\n",
    "\n",
    "* **Retail Marijuana Excise Taxes** show a relatively common curve to the sales taxes.  This makes sense as the growers will inevitably be the suppliers for the customers.  "
   ]
  },
  {
   "cell_type": "markdown",
   "id": "bababe30-95cf-478f-875c-9008cea4f1c4",
   "metadata": {},
   "source": [
    "## Data Preparation\n",
    "\n",
    "In order to perform regression, we need to create 2 sets of X-axis data.\n",
    "\n",
    "1. Datetime entries (`np.datetime64`) which we plot against.  Represented as `date_range`.\n",
    "2. Elapsed date entries which are just the number of days since the first entry.  This gives us an integer format we can run regression against. Represented as `date_delta`.\n",
    "\n",
    "Note the dates extend beyond the data as this is what we run **prediction** against.  For the existing date range, simply use `data['date'] - start_date`."
   ]
  },
  {
   "cell_type": "code",
   "execution_count": null,
   "id": "8f4b010d-1ab6-4a84-9f22-38bd9894a471",
   "metadata": {},
   "outputs": [],
   "source": [
    "start_date = tax_rev_monthly_df['date'].values[0]"
   ]
  },
  {
   "cell_type": "code",
   "execution_count": null,
   "id": "64208b01-8a40-4029-96e9-7905df95acf6",
   "metadata": {},
   "outputs": [],
   "source": [
    "date_range = []\n",
    "date_delta = []\n",
    "for year in range(2014,2026):\n",
    "    for month in range( 1,13 ):\n",
    "        date_range.append( np.datetime64( f'{year}-{month:02}-01' ) )\n",
    "        date_delta.append( np.datetime64( f'{year}-{month:02}-01' ) - start_date)\n",
    "\n",
    "date_range = pd.Series( date_range )\n",
    "date_delta = pd.Series( date_delta ).dt.days"
   ]
  },
  {
   "cell_type": "markdown",
   "id": "a054a93e-c1b6-4a16-855f-63fe4c7d335f",
   "metadata": {},
   "source": [
    "Now we need a function such that given a Y value (our tax revenue), we can construct a regression line estimate."
   ]
  },
  {
   "cell_type": "code",
   "execution_count": null,
   "id": "4976d40e-7b98-4a86-bd68-5cd0f1867903",
   "metadata": {},
   "outputs": [],
   "source": [
    "class RegType(enum.Enum):\n",
    "    POLYVAL = 1\n",
    "    POLYFEAT = 2"
   ]
  },
  {
   "cell_type": "code",
   "execution_count": null,
   "id": "8e1a61cd-c333-42d6-a517-25afff78b8a1",
   "metadata": {},
   "outputs": [],
   "source": [
    "def build_regression( num_dims, mode, xvals_train, yvals_train, xvals_predict, start = None, end = None ):\n",
    "\n",
    "    if start is not None and end is not None:\n",
    "        xvals_train = xvals_train.iloc[ start : end ]\n",
    "        yvals_train = yvals_train[ start : end ]\n",
    "\n",
    "    # Using numpy polyfit/polyval\n",
    "    if mode == RegType.POLYVAL:\n",
    "        poly = np.polyfit( xvals_train.dt.days,\n",
    "                  yvals_train,\n",
    "                  num_dims )\n",
    "\n",
    "        return np.polyval( poly, xvals_predict )\n",
    "\n",
    "    #  Using Scikit-Learn\n",
    "    elif mode == RegType.POLYFEAT:\n",
    "        poly = PolynomialFeatures(degree=num_dims, include_bias=False)\n",
    "        poly_features = poly.fit_transform( xvals_train.dt.days.values.reshape(-1, 1) )\n",
    "\n",
    "        #fit polynomial regression model\n",
    "        poly_reg_model = LinearRegression()\n",
    "\n",
    "        poly_reg_model.fit(poly_features, yvals_train )\n",
    "\n",
    "        #use model to make predictions on response variable\n",
    "        return poly_reg_model.predict( poly.fit_transform( xvals_predict.values.astype('float64').reshape(-1,1))).reshape(xvals_predict.shape[0])\n"
   ]
  },
  {
   "cell_type": "markdown",
   "id": "fe171054-156e-4357-8f3b-1813d5297271",
   "metadata": {},
   "source": [
    "## Estimating Yearly Revenue\n",
    "\n",
    "Given a regression line which extends through 2024 and 2025, we can estimate the full revenue for the calendar year."
   ]
  },
  {
   "cell_type": "code",
   "execution_count": null,
   "id": "3d4792e0-ef87-49fb-b365-adf78e5fa158",
   "metadata": {},
   "outputs": [],
   "source": [
    "def estimate_year_revenue( xpred, ypred, year ):\n",
    "\n",
    "    df = pd.DataFrame( { 'date': xpred,\n",
    "                         'pred': ypred } )\n",
    "\n",
    "    result = df.loc[df['date'] >= np.datetime64( f'{year}-01-01' )].loc[df['date'] <= np.datetime64( f'{year}-12-01' )]\n",
    "\n",
    "    return result['pred'].sum()"
   ]
  },
  {
   "cell_type": "markdown",
   "id": "d4425920-eb43-429e-83b5-5ad1ec6ad439",
   "metadata": {},
   "source": [
    "## Building Plot Results"
   ]
  },
  {
   "cell_type": "code",
   "execution_count": null,
   "id": "34f46a7f-defe-45f3-8a18-d9461aea6133",
   "metadata": {},
   "outputs": [],
   "source": [
    "dmonth = tax_rev_monthly_df['date'] - start_date"
   ]
  },
  {
   "cell_type": "code",
   "execution_count": null,
   "id": "84e2b91f-a9e7-4af2-b5f3-4375e5bc12d6",
   "metadata": {},
   "outputs": [],
   "source": [
    "dim_widget = widgets.IntSlider(\n",
    "    value=1.0,\n",
    "    min=1.0,\n",
    "    max=12.0,\n",
    "    step=1.0,\n",
    "    description='Dimensions:',\n",
    "    continuous_update=False\n",
    ")\n",
    "\n",
    "\n",
    "date_widget = widgets.SelectionRangeSlider(\n",
    "    options=date_range,\n",
    "    index=(2,dmonth.shape[0]-1),\n",
    "    description='Months',\n",
    "    disabled=False,\n",
    "    layout = { 'width': '30%' },\n",
    "    readout = False\n",
    ")\n",
    "\n",
    "date_html = widgets.HTML( value=( f'{np.datetime_as_string(date_range.values[date_widget.index[0]],unit=\"D\")}, {np.datetime_as_string(date_range.values[date_widget.index[1]],unit=\"D\")}' ) )"
   ]
  },
  {
   "cell_type": "code",
   "execution_count": null,
   "id": "4fe48c25-a49e-46a4-b125-878d324e4311",
   "metadata": {},
   "outputs": [],
   "source": [
    "modes = { 'reg_state_sales_tax': { 'name': 'Regular State Sales Taxes', 'color': 'red' },\n",
    "          'ret_mar_sales_tax': { 'name': 'Retail Marijuana Sales Taxes', 'color': 'blue' },\n",
    "          'ret_mar_exc_tax': { 'name': 'Retail Marijuana Excise Taxes', 'color': 'green' } }\n",
    "\n",
    "maxY = 0\n",
    "\n",
    "revenue = {}\n",
    "\n",
    "\n",
    "traces = []\n",
    "for mode in modes:\n",
    "\n",
    "    kname = f'{modes[mode][\"name\"]} Revenue'\n",
    "    revenue[kname] = { '2024': 0, '2025': 0 }\n",
    "    modes[mode]['ypred'] = build_regression( int(dim_widget.value),\n",
    "                                             RegType.POLYFEAT,\n",
    "                                             dmonth,\n",
    "                                             tax_rev_monthly_df[mode].values,\n",
    "                                             date_delta,\n",
    "                                             start = date_widget.index[0],\n",
    "                                             end = date_widget.index[1] )\n",
    "\n",
    "    maxY = max( np.max(tax_rev_monthly_df[mode].values), maxY )\n",
    "    traces.append( go.Scatter( x = date_range,\n",
    "                               y = tax_rev_monthly_df[mode].values,\n",
    "                               name = modes[mode]['name'],\n",
    "                               marker= dict( color = modes[mode]['color'] ),\n",
    "                               mode = 'lines+markers' ))\n",
    "\n",
    "    traces.append( go.Scatter( x = date_range,\n",
    "                               y = modes[mode]['ypred'],\n",
    "                               name = 'Regression Polynomial',\n",
    "                               marker= dict( color = modes[mode]['color'] ),\n",
    "                               mode = 'lines',\n",
    "                               line = dict( dash='dot') ) )\n",
    "\n",
    "    revenue[kname]['2024'] = estimate_year_revenue( date_range,\n",
    "                                                    modes[mode]['ypred'],\n",
    "                                                    2024 )\n",
    "    revenue[kname]['2025'] = estimate_year_revenue( date_range,\n",
    "                                                    modes[mode]['ypred'],\n",
    "                                                    2025 )\n",
    "\n",
    "revenue_df = pd.DataFrame(revenue)/1e6\n",
    "revenue_df.style.format( '${:.00f} Million' )\n",
    "\n",
    "#  Date Lines\n",
    "traces.append( go.Scatter( x = pd.Series([ np.datetime64( '2024-12-01' ),np.datetime64( '2024-12-01' )]),\n",
    "                           y = [-1,maxY + 10000000],\n",
    "                           marker = dict( color = 'orange' ),\n",
    "                           mode = 'lines',\n",
    "                           name = 'Dec 2024' ) )\n",
    "traces.append( go.Scatter( x = pd.Series([ np.datetime64( '2025-12-01' ),np.datetime64( '2025-12-01' )]),\n",
    "                           y = [-1,maxY + 10000000],\n",
    "                           marker = dict( color = 'orange' ),\n",
    "                           mode = 'lines',\n",
    "                           name = 'Dec 2025' ) )\n",
    "\n",
    "#  Regression Training Lines\n",
    "traces.append( go.Scatter( x = [ date_range[date_widget.index[0]], date_range[date_widget.index[0]]],\n",
    "                           y = [-1,maxY + 10000000],\n",
    "                           marker = dict( color = 'purple' ),\n",
    "                           mode = 'lines',\n",
    "                           name = 'Regression Training Bound' ) )\n",
    "traces.append( go.Scatter( x = date_range,\n",
    "                           y = [-1,maxY + 10000000],\n",
    "                           marker = dict( color = 'purple' ),\n",
    "                           mode = 'lines',\n",
    "                           showlegend=False ) )\n",
    "\n",
    "fig2 = go.FigureWidget( data = traces,\n",
    "                        layout = go.Layout( title = dict( text = 'Revenue Projections' ) ) )\n",
    "fig2.update_layout( height = 400 )\n",
    "fig2.update_xaxes( range = [ date_range.values[0], date_range.values[-1] ] )\n",
    "fig2.update_yaxes( range = [0,maxY + 1000000] )\n",
    "\n",
    "def response( change ):\n",
    "\n",
    "    counter = 0\n",
    "    for mode in modes:\n",
    "        modes[mode]['ypred'] = build_regression( int(dim_widget.value), RegType.POLYFEAT,\n",
    "                                                 dmonth, tax_rev_monthly_df[mode].values,\n",
    "                                                 date_delta, start = date_widget.index[0],\n",
    "                                                 end = date_widget.index[1])\n",
    "\n",
    "\n",
    "        rev24 = estimate_year_revenue( date_range, modes[mode]['ypred'], 2024 )/1e6\n",
    "        rev25 = estimate_year_revenue( date_range, modes[mode]['ypred'], 2025 )/1e6\n",
    "\n",
    "        kname = f'{modes[mode][\"name\"]} Revenue'\n",
    "        revenue[kname]['2024'] = max( 0, rev24 )\n",
    "        revenue[kname]['2025'] = max( 0, rev25 )\n",
    "        print(revenue.keys())\n",
    "        revenue_df = pd.DataFrame(revenue)/1e6\n",
    "        revenue_df.style.format( '${:.00f} Million' )\n",
    "        print(revenue_df)\n",
    "        fig2.data[2 * counter + 1].x = date_range \n",
    "        fig2.data[2 * counter + 1].y = modes[mode]['ypred']\n",
    "        counter += 1\n",
    "\n",
    "    fig2.data[-2].x = [ date_range[date_widget.index[0]], date_range[date_widget.index[0]]]\n",
    "    fig2.data[-1].x = [ date_range[date_widget.index[1]], date_range[date_widget.index[1]]]\n",
    "\n",
    "    date_html.value = f'{np.datetime_as_string(date_range.values[date_widget.index[0]],unit=\"D\")}, {np.datetime_as_string(date_range.values[date_widget.index[1]],unit=\"D\")}'\n",
    "\n",
    "dim_widget.observe( response, names=\"value\" )\n",
    "date_widget.observe( response, names=\"value\" )\n",
    "\n",
    "widgets.VBox([ dim_widget, widgets.HBox([date_widget,date_html]), fig2 ] )"
   ]
  },
  {
   "cell_type": "markdown",
   "id": "4e0211e1-c26f-4a6f-855d-9ac97e317da5",
   "metadata": {},
   "source": [
    "## NOTE:  You must re-run this cell to show updated values."
   ]
  },
  {
   "cell_type": "code",
   "execution_count": null,
   "id": "c4a77697-d2b6-4d95-ab08-f77632c89e2f",
   "metadata": {},
   "outputs": [],
   "source": [
    "revenue_df.style.format('${:,.0f} Million', precision=0)"
   ]
  },
  {
   "cell_type": "markdown",
   "id": "a28abdab-5562-4852-8151-99bf77632e27",
   "metadata": {},
   "source": [
    "## Regular State Sales Taxes\n",
    "Per the regression line **post-COVID**, <ins>Regular State Sales Taxes</ins>, 2024 will end with $\\$197k$ and 2025 will end with $\\$0$.  Given the sharp drop in demand, we should consider Regular State Sales Taxes for Marijuana products to approach an insignificant level.\n",
    "\n",
    "| Regression Dimensions | Training Start Date | Training End Date  | Est Dec 31 Revenue | Est Dec 31, 2025 Revenue | Total 2024 Revenue | Total 2025 Revenue |\n",
    "|-----------------------|---------------------|--------------------|--------------------|------------------|---|---|\n",
    "|  1 (Linear)           |  December 31, 2021  | November 31, 2023  |   $\\$197$ Million | $\\$0$ Million | $\\$4$ Million | $\\$1$ Million |\n",
    "\n",
    "<img src=\"./images/image01.png\" alt=\"drawing\" width=\"800\"/>\n",
    "<img src=\"./images/image02.png\" alt=\"drawing\" width=\"800\"/>\n",
    "\n",
    "\n",
    "## Retail Marijuana Sales Taxes\n",
    "\n",
    "Retail sales taxes fare much better.  There is still a significant revenue drop, baring a return in demand.  Using a variety of options, we end up with the following revenue projections:\n",
    "\n",
    "| Regression Dimensions | Training Start Date | Training End Date  | Est Dec 31 Revenue | Est Dec 31, 2025 Revenue | Total 2024 Revenue | Total 2025 Revenue |\n",
    "|-----------------------|---------------------|--------------------|--------------------|------------------|---|---|\n",
    "|  1 (Linear)           |  December 31, 2021  | November 31, 2023  |   $\\$14.4$ Million | $\\$12.3$ Million | $\\$184$ Million | $\\$159$ Million |\n",
    "|  2 (Quadratic)        |  December 31, 2021  | November 31, 2023  |   $\\$14.6$ Million | $\\$12.8$ Million | $\\$185$ Million | $\\$163$ Million |\n",
    "\n",
    "## Retail Marijuana Excise Tax\n",
    "\n",
    "| Regression Dimensions | Training Start Date | Training End Date  | Est Dec 31 Revenue | Est Dec 31, 2025 Revenue | Total 2024 Revenue | Total 2025 Revenue |\n",
    "|-----------------------|---------------------|--------------------|--------------------|------------------|---|---|\n",
    "|  1 (Linear)           |  December 31, 2021  | November 31, 2023  |   $\\$1.3$ Million | $\\$0$ Million | $\\$27$ Million | $\\$3$ Million |\n"
   ]
  },
  {
   "cell_type": "code",
   "execution_count": null,
   "id": "d36a3469-b6e4-44b0-bd45-8b7561d33222",
   "metadata": {},
   "outputs": [],
   "source": []
  }
 ],
 "metadata": {
  "kernelspec": {
   "display_name": "Python 3 (ipykernel)",
   "language": "python",
   "name": "python3"
  },
  "language_info": {
   "codemirror_mode": {
    "name": "ipython",
    "version": 3
   },
   "file_extension": ".py",
   "mimetype": "text/x-python",
   "name": "python",
   "nbconvert_exporter": "python",
   "pygments_lexer": "ipython3",
   "version": "3.11.6"
  },
  "widgets": {
   "application/vnd.jupyter.widget-state+json": {
    "state": {},
    "version_major": 2,
    "version_minor": 0
   }
  }
 },
 "nbformat": 4,
 "nbformat_minor": 5
}
